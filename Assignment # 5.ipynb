{
 "cells": [
  {
   "cell_type": "code",
   "execution_count": 26,
   "metadata": {},
   "outputs": [
    {
     "name": "stdout",
     "output_type": "stream",
     "text": [
      "[12, 76, 64, 22, 18, 48]\n"
     ]
    }
   ],
   "source": [
    "# Write a Python function to print the even numbers from a given list.\n",
    "\n",
    "def finder():\n",
    "    a = []\n",
    "    lis = [12, 3, 57, 76, 43, 64, 91,22,55, 13, 17, 18, 48]\n",
    "    for i in lis:\n",
    "        if i % 2 == 0:\n",
    "            a.append(i)\n",
    "    print(a)\n",
    "finder()"
   ]
  },
  {
   "cell_type": "code",
   "execution_count": 4,
   "metadata": {},
   "outputs": [
    {
     "name": "stdout",
     "output_type": "stream",
     "text": [
      "Enter a number: 6\n",
      "The factorial of 6 is: 720\n"
     ]
    }
   ],
   "source": [
    "# Write a Python function to calculate the factorial of a number (a non-negative\n",
    "# integer). The function accepts the number as an argument.\n",
    "\n",
    "def factorial(a):\n",
    "    fact = 1\n",
    "    for i in range(a,0,-1):\n",
    "        fact = fact  * i\n",
    "    return fact\n",
    "inp = int(input('Enter a number: '))\n",
    "result = factorial(inp)\n",
    "print('The factorial of {} is: {}'.format(inp,result))\n",
    "        "
   ]
  },
  {
   "cell_type": "code",
   "execution_count": 15,
   "metadata": {},
   "outputs": [
    {
     "name": "stdout",
     "output_type": "stream",
     "text": [
      "Orignal input:  My Name Is Moazzam Ali\n",
      "Uppercase letters are:  5\n",
      "Lowercase letters are:  13\n"
     ]
    }
   ],
   "source": [
    "# Write a Python function that accepts a string and calculate the number of upper\n",
    "# case letters and lower case letters.\n",
    "\n",
    "def countcase(given):\n",
    "    sencase = {'upper' : 0, 'lower' : 0}\n",
    "    for i in given:\n",
    "        if i.isupper():\n",
    "            sencase['upper'] += 1\n",
    "        elif i.islower():\n",
    "            sencase['lower'] += 1\n",
    "        else:\n",
    "            pass\n",
    "    print('Orignal input: ',given)\n",
    "    print('Uppercase letters are: ',sencase['upper'])\n",
    "    print('Lowercase letters are: ',sencase['lower'])\n",
    "countcase('My Name Is Moazzam Ali')\n",
    "\n",
    "            "
   ]
  },
  {
   "cell_type": "code",
   "execution_count": 14,
   "metadata": {},
   "outputs": [
    {
     "name": "stdout",
     "output_type": "stream",
     "text": [
      "Enter a number: 29\n",
      "29 is a prime number\n"
     ]
    }
   ],
   "source": [
    "# Write a Python function that takes a number as a parameter and check the\n",
    "# number is prime or not.\n",
    "\n",
    "inp = int(input('Enter a number: '))\n",
    "if inp > 1:\n",
    "    for i in range(2,inp):\n",
    "        if (inp % i) == 0:\n",
    "            print(inp,'is not a prime number')\n",
    "            break\n",
    "    else:\n",
    "            print(inp,'is a prime number')\n",
    "else:\n",
    "        print(inp,' is not a prime number')"
   ]
  },
  {
   "cell_type": "code",
   "execution_count": 19,
   "metadata": {},
   "outputs": [
    {
     "name": "stdout",
     "output_type": "stream",
     "text": [
      "you bought:  grossery\n",
      "you bought:  meat\n",
      "you bought:  vages\n",
      "you bought:  dessert\n"
     ]
    }
   ],
   "source": [
    "# Suppose a customer is shopping in a market and you need to print all the items\n",
    "# which user bought from market.\n",
    "# Write a function which accepts the multiple arguments of user shopping list and\n",
    "# print all the items which user bought from market.\n",
    "\n",
    "def shopping(*items):\n",
    "    for item in items:\n",
    "        print('you bought: ',item)\n",
    "shopping('grossery', 'meat' , 'vages' , 'dessert')"
   ]
  },
  {
   "cell_type": "code",
   "execution_count": 24,
   "metadata": {},
   "outputs": [
    {
     "name": "stdout",
     "output_type": "stream",
     "text": [
      "Enter the text: madam\n",
      "Input: madam \n",
      "Reverse: madam\n",
      "it is a palindrome\n"
     ]
    }
   ],
   "source": [
    "# Write a Python function that checks whether a passed string is palindrome or not.\n",
    "# Note: A palindrome is a word, phrase, or sequence that reads the same\n",
    "# backward as forward, e.g., madam\n",
    "\n",
    "palin = input('Enter the text: ')\n",
    "reverse = palin[::-1]\n",
    "if palin == reverse :\n",
    "    print('Input: {} \\nReverse: {}'.format(palin, reverse))\n",
    "    print('it is a palindrome')\n",
    "else:\n",
    "    print('Input: {} \\nReverse: {}'.format(palin, reverse))\n",
    "    print('it is not a palindrome!')\n",
    "    "
   ]
  },
  {
   "cell_type": "code",
   "execution_count": null,
   "metadata": {},
   "outputs": [],
   "source": []
  }
 ],
 "metadata": {
  "kernelspec": {
   "display_name": "Python 3",
   "language": "python",
   "name": "python3"
  },
  "language_info": {
   "codemirror_mode": {
    "name": "ipython",
    "version": 3
   },
   "file_extension": ".py",
   "mimetype": "text/x-python",
   "name": "python",
   "nbconvert_exporter": "python",
   "pygments_lexer": "ipython3",
   "version": "3.7.4"
  }
 },
 "nbformat": 4,
 "nbformat_minor": 2
}
