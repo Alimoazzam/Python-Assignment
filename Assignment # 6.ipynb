{
 "cells": [
  {
   "cell_type": "code",
   "execution_count": 4,
   "metadata": {},
   "outputs": [
    {
     "name": "stdout",
     "output_type": "stream",
     "text": [
      "Oop can be defined as:\n",
      "The concept of OOP is focuses on creating reusable code. \n",
      "This concept is also known as DRY (Don't Repeat Yourself). \n",
      "The four principles of object-oriented programming are:\n",
      "encapsulation, abstraction, inheritance, and polymorphism.\n"
     ]
    }
   ],
   "source": [
    "#Defining OOP\n",
    "\n",
    "print('''Oop can be defined as:\n",
    "The concept of OOP is focuses on creating reusable code. \n",
    "This concept is also known as DRY (Don't Repeat Yourself). \n",
    "The four principles of object-oriented programming are:\n",
    "encapsulation, abstraction, inheritance, and polymorphism.''')"
   ]
  },
  {
   "cell_type": "code",
   "execution_count": 6,
   "metadata": {},
   "outputs": [
    {
     "name": "stdout",
     "output_type": "stream",
     "text": [
      " Benefits of oop are:\n",
      "    1. Modularity for easier troubleshooting \n",
      "    2. Reuse of code through inheritance\n",
      "    3. Flexibility through polymorphism\n",
      "    4. Effective problem solving\n",
      "    \n"
     ]
    }
   ],
   "source": [
    "#Benefits of oop\n",
    "\n",
    "print(''' Benefits of oop are:\n",
    "    1. Modularity for easier troubleshooting \n",
    "    2. Reuse of code through inheritance\n",
    "    3. Flexibility through polymorphism\n",
    "    4. Effective problem solving\n",
    "    ''')"
   ]
  },
  {
   "cell_type": "code",
   "execution_count": 14,
   "metadata": {},
   "outputs": [
    {
     "name": "stdout",
     "output_type": "stream",
     "text": [
      "Funtion\n",
      "\n",
      "\n",
      "if we have to use a task again and again we write that task in a function and call it when we need it.\n",
      "we can pass arguments when calling a funtion if it takes parameters .\n",
      "in function you have to pass class attributes as parameters else you can use them in function. \n",
      "\n",
      "Method\n",
      "\n",
      "Methods are same as functions there are very few differece in methods and functions which are:\n",
      "    1) methods are written in the scope of class\n",
      "    2) methods take \"self\" as first parameter , then you know that its a method\n",
      "    3) self in method takes all the attributes which are defined in class and u can use the attributes \n",
      "    in method using self keyword .\n",
      "    \n"
     ]
    }
   ],
   "source": [
    "#differentiate between Function and Method\n",
    "\n",
    "print('Funtion\\n')\n",
    "print('''\n",
    "if we have to use a task again and again we write that task in a function and call it when we need it.'''+\"\\n\"+\n",
    "'''we can pass arguments when calling a funtion if it takes parameters .\n",
    "in function you have to pass class attributes as parameters else you can use them in function. ''')\n",
    "print('\\nMethod')\n",
    "print('''\n",
    "Methods are same as functions there are very few differece in methods and functions which are:\n",
    "    1) methods are written in the scope of class\n",
    "    2) methods take \"self\" as first parameter , then you know that its a method\n",
    "    3) self in method takes all the attributes which are defined in class and u can use the attributes \n",
    "    in method using self keyword .\n",
    "    ''')"
   ]
  },
  {
   "cell_type": "code",
   "execution_count": 21,
   "metadata": {},
   "outputs": [
    {
     "name": "stdout",
     "output_type": "stream",
     "text": [
      "Class:\n",
      "A class is a blueprint that defines the variables and the methods common to all objects of a certain kind.\n",
      "\n",
      "Object:\n",
      "An object is a component of a program that knows how to perform certain actions and how to interact with other elements of the program.\n",
      "\n",
      "Attribute:\n",
      "An attribute is an element that takes a value and is associated with an object, such as an item, a region, a page.\n",
      "\n",
      "Behavior:\n",
      "The behavior of an object is defined by its methods, which are the functions   and subroutines defined within the object class.\n",
      "\n"
     ]
    }
   ],
   "source": [
    "# Defining Class, Object, Attribute, Behavior\n",
    "\n",
    "print('Class:\\nA class is a blueprint that defines the variables and the methods common to all objects of a certain kind.\\n')\n",
    "print('Object:\\nAn object is a component of a program that knows how to perform certain actions and how to interact with other elements of the program.\\n')\n",
    "print('Attribute:\\nAn attribute is an element that takes a value and is associated with an object, such as an item, a region, a page.\\n')\n",
    "print('Behavior:\\nThe behavior of an object is defined by its methods, which are the functions   and subroutines defined within the object class.\\n')"
   ]
  },
  {
   "cell_type": "code",
   "execution_count": 22,
   "metadata": {},
   "outputs": [
    {
     "name": "stdout",
     "output_type": "stream",
     "text": [
      "this car name is :  Corolla\n",
      "Suzuki\n",
      "Xayz-212\n"
     ]
    }
   ],
   "source": [
    "class Car:\n",
    "    def __init__(self,model,color,name,company,number):\n",
    "        self.model=model\n",
    "        self.color=color\n",
    "        self.name=name\n",
    "        self.company=company\n",
    "        self.number=number\n",
    "        \n",
    "    def print_name(self):\n",
    "        print(\"this car name is : \",self.name)\n",
    "            \n",
    "    def print_UPdatecompany(self):\n",
    "        self.company=\"Suzuki\"\n",
    "        print(self.company)\n",
    "            \n",
    "    def print_number(self):\n",
    "        print(self.number)\n",
    "            \n",
    "car1=Car('2019','Black','Corolla','Toyota','Abx-2132')\n",
    "car2=Car('2018','white','VIGO','Toyota','Xayz-212')\n",
    "car3=Car('2017','Red','land Cruiser','Toyota','cda-132')\n",
    "car4=Car('2016','Blue','Civic','Honda','zzw-32')\n",
    "car5=Car('2015','mate Black','City','Honda','Ax-22')\n",
    "\n",
    "\n",
    "\n",
    "car1.print_name()\n",
    "car2.print_UPdatecompany()\n",
    "car2.print_number()"
   ]
  },
  {
   "cell_type": "code",
   "execution_count": null,
   "metadata": {},
   "outputs": [],
   "source": []
  }
 ],
 "metadata": {
  "kernelspec": {
   "display_name": "Python 3",
   "language": "python",
   "name": "python3"
  },
  "language_info": {
   "codemirror_mode": {
    "name": "ipython",
    "version": 3
   },
   "file_extension": ".py",
   "mimetype": "text/x-python",
   "name": "python",
   "nbconvert_exporter": "python",
   "pygments_lexer": "ipython3",
   "version": "3.7.4"
  }
 },
 "nbformat": 4,
 "nbformat_minor": 2
}
