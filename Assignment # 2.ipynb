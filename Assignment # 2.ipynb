{
 "cells": [
  {
   "cell_type": "code",
   "execution_count": 4,
   "metadata": {},
   "outputs": [
    {
     "name": "stdout",
     "output_type": "stream",
     "text": [
      "Enter your networking marks: 87\n",
      "Enter your Math marks: 98\n",
      "Enter your science marks: 89\n",
      "Enter your physics marks: 79\n",
      "Enter your chemistry marks: 88\n",
      "\n",
      "obtained marks: 441/500\n",
      "\n",
      "your percentage is: 88.2\n",
      "\n",
      "Your Grade is Grade A+ \n",
      "\t\t Congratulations!\n"
     ]
    }
   ],
   "source": [
    "#Write a program which takes 5 inputs from user for different subject’s\n",
    "#marks, total it and generate mark sheet using grades ?\n",
    "\n",
    "net = int(input('Enter your networking marks: '))\n",
    "mat = int(input('Enter your Math marks: '))\n",
    "sci = int(input('Enter your science marks: '))\n",
    "phy = int(input('Enter your physics marks: '))\n",
    "chem = int(input('Enter your chemistry marks: '))\n",
    "\n",
    "total = net + mat + sci + phy + chem\n",
    "print('\\nobtained marks: '+str(total)+ '/500')\n",
    "percent = ( total * 100 ) / 500\n",
    "print('\\nyour percentage is: '+ str(percent) + '\\n')\n",
    "\n",
    "if percent < 50 :\n",
    "    print('your are Fail \\n\\t Need Hard Work!')\n",
    "elif percent >= 50 and percent < 60:\n",
    "    print('Your Grade is C')\n",
    "elif percent >=60 and percent < 70 :\n",
    "    print('Your Grade is Grade B \\n\\t\\t it should be improve ...')\n",
    "elif percent >=70 and percent < 80 :\n",
    "    print('Your Grade is Grade A \\n\\t\\t  Good!')\n",
    "elif percent >=80 and percent <= 100 :\n",
    "    print('Your Grade is Grade A+ \\n\\t\\t Congratulations!')\n",
    "elif percent > 100 :\n",
    "    print('You have put invalid Entries')\n",
    "        \n",
    "    "
   ]
  },
  {
   "cell_type": "code",
   "execution_count": 26,
   "metadata": {},
   "outputs": [
    {
     "name": "stdout",
     "output_type": "stream",
     "text": [
      "Enter the number you want to check: 1743\n",
      "\n",
      "Odd Number\n"
     ]
    }
   ],
   "source": [
    "'''Write a program which take input from user and identify that the given\n",
    "number is even or odd?'''\n",
    "\n",
    "user = int(input('Enter the number you want to check: '))\n",
    "if user % 2 == 0 :\n",
    "    print('\\nEven Number')\n",
    "else:\n",
    "    print('\\nOdd Number')"
   ]
  },
  {
   "cell_type": "code",
   "execution_count": 6,
   "metadata": {},
   "outputs": [
    {
     "name": "stdout",
     "output_type": "stream",
     "text": [
      "The lenght of above list is: 12\n"
     ]
    }
   ],
   "source": [
    "#Write a program which print the length of the list?\n",
    "\n",
    "lis=[23, 24, 65, 86, 83, 92, 70, 95, 4, 2, 7, 4,]\n",
    "print('The lenght of above list is: ',end=\"\")\n",
    "print(len(lis))"
   ]
  },
  {
   "cell_type": "code",
   "execution_count": 5,
   "metadata": {},
   "outputs": [
    {
     "name": "stdout",
     "output_type": "stream",
     "text": [
      "The sum of all elements in the above list is: 555\n"
     ]
    }
   ],
   "source": [
    "#Write a Python program to sum all the numeric items in a list.\n",
    "\n",
    "lis=[23, 24, 65, 86, 83, 92, 70, 95, 4, 2, 7, 4,]\n",
    "print('The sum of all elements in the above list is: ',end=\"\")\n",
    "print(sum(lis))\n",
    "\n",
    "\n"
   ]
  },
  {
   "cell_type": "code",
   "execution_count": 4,
   "metadata": {},
   "outputs": [
    {
     "name": "stdout",
     "output_type": "stream",
     "text": [
      "The largest number in the above list is: 95\n"
     ]
    }
   ],
   "source": [
    "#Write a Python program to get the largest number from a numeric list.\n",
    "\n",
    "lis=[23, 24, 65, 86, 83, 92, 70, 95, 4, 2, 7, 4,]\n",
    "print('The largest number in the above list is: ',end=\"\")\n",
    "print(max(lis))"
   ]
  },
  {
   "cell_type": "code",
   "execution_count": 18,
   "metadata": {},
   "outputs": [
    {
     "name": "stdout",
     "output_type": "stream",
     "text": [
      "These numbers are \n",
      "laser than 5:\n",
      "\t\t 1\n",
      "\t\t 1\n",
      "\t\t 2\n",
      "\t\t 3\n"
     ]
    }
   ],
   "source": [
    "'''write a program that prints out all the elements of the list that are\n",
    "less than 5.'''\n",
    "\n",
    "list=[1,1,2,3,5,8,13,21,34,55,89]\n",
    "check=len(list)\n",
    "print('These numbers are \\nlaser than 5:')\n",
    "for i in range(check):\n",
    "    if list[i]<5:\n",
    "        print('\\t\\t',list[i])\n",
    "\n"
   ]
  },
  {
   "cell_type": "code",
   "execution_count": null,
   "metadata": {},
   "outputs": [],
   "source": []
  }
 ],
 "metadata": {
  "kernelspec": {
   "display_name": "Python 3",
   "language": "python",
   "name": "python3"
  },
  "language_info": {
   "codemirror_mode": {
    "name": "ipython",
    "version": 3
   },
   "file_extension": ".py",
   "mimetype": "text/x-python",
   "name": "python",
   "nbconvert_exporter": "python",
   "pygments_lexer": "ipython3",
   "version": "3.7.4"
  }
 },
 "nbformat": 4,
 "nbformat_minor": 2
}
