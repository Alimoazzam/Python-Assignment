{
 "cells": [
  {
   "cell_type": "code",
   "execution_count": 7,
   "metadata": {},
   "outputs": [
    {
     "name": "stdout",
     "output_type": "stream",
     "text": [
      "Enter the value of radius: 12.5\n",
      "Area of the circle is: 490.8738521234052\n",
      "\t\t\t\t\t Answer!\n"
     ]
    }
   ],
   "source": [
    "# program To find the area of a circle by the given radius :\n",
    "\n",
    "import math\n",
    "radius = float(input('Enter the value of radius: '))\n",
    "area = math.pi * radius * radius\n",
    "print('Area of the circle is: {0}'.format(area)+ '\\n\\t\\t\\t\\t\\t Answer!')\n"
   ]
  },
  {
   "cell_type": "code",
   "execution_count": 6,
   "metadata": {},
   "outputs": [
    {
     "name": "stdout",
     "output_type": "stream",
     "text": [
      "First Name: Moazzam\n",
      "Last Name: Ali\n",
      "Reverse Order: Ali Moazzam\n"
     ]
    }
   ],
   "source": [
    "#Write a Python program which accepts the user's first and last name and\n",
    "#print them in reverse order with a space between them.\n",
    "\n",
    "first_name = input('First Name: ')\n",
    "last_name = input('Last Name: ')\n",
    "print(\"Reverse Order: \" + last_name +\" \"+ first_name)"
   ]
  },
  {
   "cell_type": "code",
   "execution_count": 66,
   "metadata": {},
   "outputs": [
    {
     "name": "stdout",
     "output_type": "stream",
     "text": [
      "Enter first value you want to Add: 12\n",
      "Enter second value you want to Add with: 13\n",
      "Sum of the given input is: 25\n"
     ]
    }
   ],
   "source": [
    "#Write a python program which takes two inputs from user and print them\n",
    "#addition\n",
    "value_1 = int(input('Enter first value you want to Add: '))\n",
    "value_2 = int(input('Enter second value you want to Add with: '))\n",
    "Addition = value_1 + value_2\n",
    "print('Sum of the given input is: {0}'.format(Addition))"
   ]
  },
  {
   "cell_type": "code",
   "execution_count": 19,
   "metadata": {},
   "outputs": [
    {
     "name": "stdout",
     "output_type": "stream",
     "text": [
      "2019-11-01 08:19:29.249170\n"
     ]
    }
   ],
   "source": [
    "# Python program to display the current date and time.\n",
    "from datetime import datetime\n",
    "now = datetime.now()\n",
    "print(now)"
   ]
  },
  {
   "cell_type": "code",
   "execution_count": 35,
   "metadata": {},
   "outputs": [
    {
     "name": "stdout",
     "output_type": "stream",
     "text": [
      "current date:  2019 / 11 / 1\n",
      "Current time:  8 : 32 : 43\n"
     ]
    }
   ],
   "source": [
    "# Python program to display the current date and time. by (2nd method)\n",
    "from datetime import datetime\n",
    "now = datetime.now()\n",
    "currentyear = now.year\n",
    "currentmonth = now.month\n",
    "currentday = now.day\n",
    "currenthour = now.hour\n",
    "currentminute = now.minute\n",
    "currentsecond = now.second\n",
    "print(\"current date: \" , currentyear , \"/\", currentmonth , \"/\", currentday)\n",
    "print(\"Current time: \" , currenthour , \":\", currentminute, \":\", currentsecond)"
   ]
  },
  {
   "cell_type": "code",
   "execution_count": 65,
   "metadata": {},
   "outputs": [
    {
     "name": "stdout",
     "output_type": "stream",
     "text": [
      "  Twinkle, twinkle, little star, \n",
      "\tHow I wonder what you are!\n",
      "\t      Up above the world so high, \n",
      "\t      Like a diamond in the sky.\n",
      "  Twinkle, twinkle, little star, \n",
      "\tHow I wonder what you are!\n"
     ]
    }
   ],
   "source": [
    "#Write a Python program to print the following string in a specific format\n",
    "#(see the output).\n",
    "\n",
    "print('  Twinkle, twinkle, little star, \\n'\n",
    "'\\tHow I wonder what you are!')\n",
    "\n",
    "print('\\t      Up above the world so high, \\n'\n",
    "      '\\t      Like a diamond in the sky.')\n",
    "\n",
    "print('  Twinkle, twinkle, little star, \\n'\n",
    "'\\tHow I wonder what you are!')\n",
    "\n"
   ]
  },
  {
   "cell_type": "code",
   "execution_count": 67,
   "metadata": {},
   "outputs": [
    {
     "name": "stdout",
     "output_type": "stream",
     "text": [
      "python version\n",
      "3.7.4 (default, Aug  9 2019, 18:34:13) [MSC v.1915 64 bit (AMD64)]\n",
      "python version_description\n",
      "sys.version_info(major=3, minor=7, micro=4, releaselevel='final', serial=0)\n"
     ]
    }
   ],
   "source": [
    "# Python program to get the Python version you are using.\n",
    "import sys\n",
    "print(\"python version\")\n",
    "print(sys.version)\n",
    "print('python version_description')\n",
    "print(sys.version_info)"
   ]
  },
  {
   "cell_type": "code",
   "execution_count": null,
   "metadata": {},
   "outputs": [],
   "source": []
  }
 ],
 "metadata": {
  "kernelspec": {
   "display_name": "Python 3",
   "language": "python",
   "name": "python3"
  },
  "language_info": {
   "codemirror_mode": {
    "name": "ipython",
    "version": 3
   },
   "file_extension": ".py",
   "mimetype": "text/x-python",
   "name": "python",
   "nbconvert_exporter": "python",
   "pygments_lexer": "ipython3",
   "version": "3.7.4"
  }
 },
 "nbformat": 4,
 "nbformat_minor": 2
}
