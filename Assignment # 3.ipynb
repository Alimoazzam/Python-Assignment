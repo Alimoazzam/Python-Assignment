{
 "cells": [
  {
   "cell_type": "code",
   "execution_count": 2,
   "metadata": {},
   "outputs": [
    {
     "name": "stdout",
     "output_type": "stream",
     "text": [
      "Enter first_value: 2\n",
      "Enter second_value: 5\n",
      "Enter the operator: **\n",
      "32  Answer!\n"
     ]
    }
   ],
   "source": [
    "# Make a calculator using Python with addition , subtraction , multiplication ,\n",
    "# division and power.\n",
    "\n",
    "val1 = int(input('Enter first_value: '))\n",
    "val2 = int(input('Enter second_value: '))\n",
    "operator = input('Enter the operator: ')\n",
    "\n",
    "if operator == '+':\n",
    "    val = val1 + val2\n",
    "    print(val,'   Answer!')\n",
    "elif operator == '**':\n",
    "    val = val1 ** val2\n",
    "    print(val,' Answer!')\n",
    "elif operator == '-':\n",
    "    val = val1 - val2\n",
    "    print(val,'   Answer!')\n",
    "elif operator == '*':\n",
    "    val = val1 * val2\n",
    "    print(val,'   Answer!')\n",
    "elif operator == '/':\n",
    "    val = val1 / val2\n",
    "    print(val,'   Answer!')\n",
    "else:\n",
    "    print('Enter the correct operator')"
   ]
  },
  {
   "cell_type": "code",
   "execution_count": 17,
   "metadata": {},
   "outputs": [
    {
     "name": "stdout",
     "output_type": "stream",
     "text": [
      "12 is the numeric values in the list\n",
      "45 is the numeric values in the list\n",
      "12.454 is the numeric values in the list\n"
     ]
    }
   ],
   "source": [
    "# Write a program to check if there is any numeric value in list using for loop\n",
    "\n",
    "lis = ['Ali', 'raza', True , 12, 'kareem', 45, False, 12.454]\n",
    "for i in lis:\n",
    "    if type(i) == int:\n",
    "        print(i,'is the numeric values in the list')\n",
    "    elif type(i) == float:\n",
    "        print(i,'is the numeric values in the list')"
   ]
  },
  {
   "cell_type": "code",
   "execution_count": 18,
   "metadata": {},
   "outputs": [
    {
     "name": "stdout",
     "output_type": "stream",
     "text": [
      "Enter key Ali\n",
      "Enter value Pass\n",
      "{'Ali': 'Pass'}\n"
     ]
    }
   ],
   "source": [
    "# Write a Python script to add a key to a dictionary\n",
    "\n",
    "student = {}\n",
    "keyinput = input('Enter key ')\n",
    "valueinput = input('Enter value ')\n",
    "student.update({keyinput:valueinput})\n",
    "print(student)"
   ]
  },
  {
   "cell_type": "code",
   "execution_count": 4,
   "metadata": {},
   "outputs": [
    {
     "name": "stdout",
     "output_type": "stream",
     "text": [
      "Pakistan Target: 257 Runs\n"
     ]
    }
   ],
   "source": [
    "# Write a Python program to sum all the numeric items in a dictionary\n",
    "\n",
    "score_record = {'babar' : 45 , 'sarfaraz' : 25, 'Azhar': 57, 'imad': 60, 'haris': 70}\n",
    "total = sum(score_record.values())\n",
    "print('Pakistan Target:',total, 'Runs')"
   ]
  },
  {
   "cell_type": "code",
   "execution_count": 15,
   "metadata": {},
   "outputs": [
    {
     "name": "stdout",
     "output_type": "stream",
     "text": [
      "[1, 3, 5, 4] is duplicating\n"
     ]
    }
   ],
   "source": [
    "# Write a program to identify duplicate values from list\n",
    "\n",
    "arr = [1, 3, 5, 2, 5, 4, 7, 3, 8, 1, 9, 4]\n",
    "list_range = len(arr)\n",
    "repeated = []\n",
    "for i in range(list_range):\n",
    "    a = i + 1\n",
    "    for j in range(a, arr_range):\n",
    "        if arr[i] == arr[j] and arr[i] not in repeated:\n",
    "            repeated.append(arr[i])\n",
    "    \n",
    "print(repeated,'is duplicating')\n",
    "\n"
   ]
  },
  {
   "cell_type": "code",
   "execution_count": 16,
   "metadata": {},
   "outputs": [
    {
     "name": "stdout",
     "output_type": "stream",
     "text": [
      "Enter Key Name Check if exist or notraza\n",
      "Given Key exist\n"
     ]
    }
   ],
   "source": [
    "# Write a Python script to check if a given key already exists in a dictionary\n",
    "\n",
    "dic = {\n",
    "    'raza' : 15,\n",
    "    'course':'python',\n",
    "    'institute':'SMIT',\n",
    "    'duration': '3 month',\n",
    "    'certification':'cisco',\n",
    "}\n",
    "check_key = input(\"Enter Key Name Check if exist or not\")\n",
    "flag = False\n",
    "for i in dic.keys():\n",
    "    if i == check_key:\n",
    "        flag = True\n",
    "        break\n",
    "\n",
    "if flag:\n",
    "    print(\"Given Key exist\")\n",
    "else:\n",
    "    print(\"Given Key dose not exist\")"
   ]
  },
  {
   "cell_type": "code",
   "execution_count": null,
   "metadata": {},
   "outputs": [],
   "source": []
  }
 ],
 "metadata": {
  "kernelspec": {
   "display_name": "Python 3",
   "language": "python",
   "name": "python3"
  },
  "language_info": {
   "codemirror_mode": {
    "name": "ipython",
    "version": 3
   },
   "file_extension": ".py",
   "mimetype": "text/x-python",
   "name": "python",
   "nbconvert_exporter": "python",
   "pygments_lexer": "ipython3",
   "version": "3.7.4"
  }
 },
 "nbformat": 4,
 "nbformat_minor": 2
}
